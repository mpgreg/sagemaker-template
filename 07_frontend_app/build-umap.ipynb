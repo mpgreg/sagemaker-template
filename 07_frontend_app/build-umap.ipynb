{
 "cells": [
  {
   "cell_type": "code",
   "execution_count": null,
   "metadata": {},
   "outputs": [],
   "source": [
    "#specify python install location above /home/ec2-user/SageMaker so that we don't have to \n",
    "#reinstall custom packages after every reboot.\n",
    "\n",
    "import os\n",
    "user_libs_path=\"/home/ec2-user/SageMaker/.local\"\n",
    "\n",
    "if not os.path.exists(user_libs_path):\n",
    "    os.makedirs(user_libs_path)\n",
    "\n",
    "import sys\n",
    "sys.path.insert(0, user_libs_path+'/lib/python3.6/site-packages')\n",
    "import site\n",
    "site.USER_BASE=user_libs_path"
   ]
  },
  {
   "cell_type": "code",
   "execution_count": null,
   "metadata": {},
   "outputs": [],
   "source": [
    "import subprocess, os\n",
    "\n",
    "my_env = os.environ.copy()\n",
    "my_env[\"PYTHONUSERBASE\"] = user_libs_path\n",
    "\n",
    "process = subprocess.run(\"pip install --user -r ./app-requirements.txt\"\n",
    "                           .split(), env=my_env, stdout=subprocess.PIPE)\n",
    "process.stderr"
   ]
  },
  {
   "cell_type": "code",
   "execution_count": null,
   "metadata": {},
   "outputs": [],
   "source": [
    "import umap\n",
    "import pickle\n",
    "import joblib\n",
    "import random\n",
    "import string\n",
    "import warnings\n",
    "warnings.simplefilter('ignore')\n",
    "import logging\n",
    "logging.getLogger(\"param.Dimension\").setLevel(logging.CRITICAL)\n",
    "logging.getLogger(\"param.ParameterizedMetaclass\").setLevel(logging.CRITICAL)\n",
    "logging.getLogger(\"param.PointPlot\").setLevel(logging.CRITICAL)\n",
    "import numpy as np\n",
    "import pandas as pd"
   ]
  },
  {
   "cell_type": "code",
   "execution_count": null,
   "metadata": {},
   "outputs": [],
   "source": [
    "import holoviews as hv\n",
    "hv.extension('bokeh')\n",
    "import awswrangler as wr\n",
    "import boto3\n",
    "\n",
    "model_dir=\"../model/\"\n",
    "data_dir=\"../data/\"\n",
    "\n",
    "#role = get_execution_role()\n",
    "#sess = sagemaker.Session()\n",
    "#bucket = sess.default_bucket()\n",
    "bucket = 'project1-lz'\n",
    "s3_master_dir='master'"
   ]
  },
  {
   "cell_type": "code",
   "execution_count": null,
   "metadata": {},
   "outputs": [],
   "source": [
    "#sentiments = wr.s3.read_parquet(os.path.join(\"s3://\",bucket,s3_raw_dir, raw_data_file), dataset=True)\n",
    "\n",
    "#client.get_object(Body=pickle.dumps(le_cluster), Bucket=bucket, Key='preprocessing/le_cluster.pkl');\n",
    "\n",
    "frontend_file='frontend_data.pkl'\n",
    "response = boto3.client('s3').get_object(Bucket=bucket, \n",
    "                                         Key=os.path.join(s3_master_dir, frontend_file))[\"Body\"].read()\n",
    "data = pickle.loads(response)"
   ]
  },
  {
   "cell_type": "code",
   "execution_count": null,
   "metadata": {},
   "outputs": [],
   "source": [
    "data.keys()"
   ]
  },
  {
   "cell_type": "code",
   "execution_count": null,
   "metadata": {},
   "outputs": [],
   "source": [
    "len(data['prediction'])"
   ]
  },
  {
   "cell_type": "code",
   "execution_count": null,
   "metadata": {},
   "outputs": [],
   "source": [
    "data_df = pd.DataFrame(data)"
   ]
  },
  {
   "cell_type": "code",
   "execution_count": null,
   "metadata": {},
   "outputs": [],
   "source": [
    "data_df.head()"
   ]
  },
  {
   "cell_type": "code",
   "execution_count": null,
   "metadata": {},
   "outputs": [],
   "source": [
    "#data_df.airline.value_counts()"
   ]
  },
  {
   "cell_type": "code",
   "execution_count": null,
   "metadata": {},
   "outputs": [],
   "source": [
    "np.shape(data['embedding'][0])"
   ]
  },
  {
   "cell_type": "code",
   "execution_count": null,
   "metadata": {},
   "outputs": [],
   "source": [
    "X = np.vstack(data_df['embedding'].values)\n",
    "\n",
    "np.shape(X)"
   ]
  },
  {
   "cell_type": "code",
   "execution_count": null,
   "metadata": {},
   "outputs": [],
   "source": [
    "%%time \n",
    "\n",
    "embedding = umap.UMAP(n_components=2,\n",
    "                      n_neighbors=15,\n",
    "                      min_dist=0.1,\n",
    "                      metric='cosine').fit_transform(X)"
   ]
  },
  {
   "cell_type": "code",
   "execution_count": null,
   "metadata": {},
   "outputs": [],
   "source": [
    "data_df['umap_x'], data_df['umap_y'] = embedding[:, 0], embedding[:, 1]"
   ]
  },
  {
   "cell_type": "code",
   "execution_count": null,
   "metadata": {},
   "outputs": [],
   "source": [
    "%%opts Scatter [width=500 height=500] (color='prediction')\n",
    "hv.Scatter(data_df, kdims=['umap_x', 'umap_y'], vdims=['prediction'])"
   ]
  },
  {
   "cell_type": "code",
   "execution_count": null,
   "metadata": {},
   "outputs": [],
   "source": [
    "#data_df['tweet'] = [''.join(random.choices(string.ascii_uppercase + string.digits, k=10))\n",
    "#                    for i in range(0, len(data_df))]"
   ]
  },
  {
   "cell_type": "code",
   "execution_count": null,
   "metadata": {},
   "outputs": [],
   "source": [
    "data_df.head()"
   ]
  },
  {
   "cell_type": "code",
   "execution_count": null,
   "metadata": {},
   "outputs": [],
   "source": [
    "data_df['tweet'] = data_df['tweet'].apply(lambda t: \" \".join(t))"
   ]
  },
  {
   "cell_type": "code",
   "execution_count": null,
   "metadata": {},
   "outputs": [],
   "source": [
    "embedding_file='umap_embedding.joblib'\n",
    "joblib.dump(data_df, os.path.join(data_dir,embedding_file), compress=True)"
   ]
  },
  {
   "cell_type": "code",
   "execution_count": null,
   "metadata": {},
   "outputs": [],
   "source": [
    "boto3.client('s3').put_object(Bucket=bucket, \n",
    "                              Key=os.path.join(s3_master_dir, embedding_file), \n",
    "                              Body=open(os.path.join(data_dir,embedding_file), 'rb'))"
   ]
  },
  {
   "cell_type": "code",
   "execution_count": null,
   "metadata": {},
   "outputs": [],
   "source": []
  }
 ],
 "metadata": {
  "kernelspec": {
   "display_name": "conda_python3",
   "language": "python",
   "name": "conda_python3"
  },
  "language_info": {
   "codemirror_mode": {
    "name": "ipython",
    "version": 3
   },
   "file_extension": ".py",
   "mimetype": "text/x-python",
   "name": "python",
   "nbconvert_exporter": "python",
   "pygments_lexer": "ipython3",
   "version": "3.6.10"
  }
 },
 "nbformat": 4,
 "nbformat_minor": 4
}
