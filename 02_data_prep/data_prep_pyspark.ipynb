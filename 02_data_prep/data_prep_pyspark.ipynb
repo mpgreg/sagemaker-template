{
 "cells": [
  {
   "cell_type": "code",
   "execution_count": null,
   "metadata": {},
   "outputs": [],
   "source": [
    "#specify python install location above /home/ec2-user/SageMaker so that we don't have to \n",
    "#reinstall custom packages after every reboot.\n",
    "\n",
    "import subprocess, sys, os, site\n",
    "\n",
    "user_libs_path=\"/home/ec2-user/SageMaker/.local\"\n",
    "\n",
    "if not os.path.exists(user_libs_path):\n",
    "    os.makedirs(user_libs_path)\n",
    "\n",
    "sys.path.insert(0, user_libs_path+'/lib/python3.6/site-packages')\n",
    "site.USER_BASE=user_libs_path\n",
    "\n",
    "my_env = os.environ.copy()\n",
    "my_env[\"PYTHONUSERBASE\"] = user_libs_path\n",
    "\n",
    "process = subprocess.run(\"pip install -U --quiet sagemaker\"\n",
    "                           .split(), env=my_env, stdout=subprocess.PIPE)\n",
    "process.stderr\n"
   ]
  },
  {
   "cell_type": "code",
   "execution_count": null,
   "metadata": {},
   "outputs": [],
   "source": [
    "import logging\n",
    "from sagemaker import Session\n",
    "from time import gmtime, strftime\n",
    "\n",
    "sagemaker_logger = logging.getLogger(\"sagemaker\")\n",
    "sagemaker_logger.setLevel(logging.INFO)\n",
    "sagemaker_logger.addHandler(logging.StreamHandler())\n",
    "\n",
    "sagemaker_session = sagemaker.Session()\n",
    "bucket = sagemaker_session.default_bucket()\n",
    "role = sagemaker.get_execution_role()\n"
   ]
  },
  {
   "cell_type": "code",
   "execution_count": null,
   "metadata": {},
   "outputs": [],
   "source": [
    "from sagemaker.spark.processing import PySparkProcessor\n",
    "\n",
    "project_bucket = 'project1-lz'\n",
    "#role = 'arn:aws:iam::000378343852:role/service-role/AmazonSageMaker-ExecutionRole-20200929T192105'\n",
    "\n",
    "spark_processor = PySparkProcessor(\n",
    "    base_job_name=\"sm-spark\",\n",
    "    framework_version=\"2.4\",\n",
    "    role=role,\n",
    "    instance_count=1,\n",
    "    instance_type=\"ml.m5.xlarge\",\n",
    "    max_runtime_in_seconds=1200,\n",
    ")\n",
    "\n",
    "spark_processor.run(\n",
    "    submit_app_py=\"./anonymize.py\",\n",
    "    arguments=['project_bucket', project_bucket,\n",
    "               'input_table', 'upload',\n",
    "               'output_table', 'raw',\n",
    "               'database', 'default'],\n",
    "    spark_event_logs_s3_uri='s3://' + bucket + '/' + prefix + '/spark_event_logs',\n",
    "    logs=False\n",
    ")\n"
   ]
  }
 ],
 "metadata": {
  "kernelspec": {
   "display_name": "conda_python3",
   "language": "python",
   "name": "conda_python3"
  },
  "language_info": {
   "codemirror_mode": {
    "name": "ipython",
    "version": 3
   },
   "file_extension": ".py",
   "mimetype": "text/x-python",
   "name": "python",
   "nbconvert_exporter": "python",
   "pygments_lexer": "ipython3",
   "version": "3.6.10"
  }
 },
 "nbformat": 4,
 "nbformat_minor": 4
}
