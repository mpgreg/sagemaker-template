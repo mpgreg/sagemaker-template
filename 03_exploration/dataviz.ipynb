{
 "cells": [
  {
   "cell_type": "code",
   "execution_count": null,
   "metadata": {},
   "outputs": [],
   "source": [
    "user_libs_path <- \"/home/ec2-user/SageMaker/.local\"\n",
    "dir.create(user_libs_path, showWarnings = FALSE)\n",
    ".libPaths(user_libs_path)\n",
    "\n",
    "packages <- c(\"ggmap\", \"leaflet\", \"tidytext\", \"wordcloud\", \"aws.s3\", \"nbconvertR\")\n",
    "#install.packages(packages)\n",
    "install.packages(setdiff(packages, rownames(installed.packages())), lib=user_libs_path)"
   ]
  },
  {
   "cell_type": "code",
   "execution_count": null,
   "metadata": {},
   "outputs": [],
   "source": [
    "library(dplyr)\n",
    "library(ggmap)\n",
    "library(stringr)\n",
    "library(tidytext)\n",
    "library(leaflet)\n",
    "library(ggplot2)\n",
    "library(wordcloud)\n",
    "library(aws.s3)\n",
    "library(reticulate)\n"
   ]
  },
  {
   "cell_type": "code",
   "execution_count": null,
   "metadata": {},
   "outputs": [],
   "source": [
    "sagemaker <- import('sagemaker')\n",
    "session <- sagemaker$Session()\n",
    "bucket <- session$default_bucket()\n",
    "role_arn <- sagemaker$get_execution_role()\n"
   ]
  },
  {
   "cell_type": "code",
   "execution_count": null,
   "metadata": {},
   "outputs": [],
   "source": [
    "\n",
    "## Load Data\n",
    "tweet_data <- read.csv(file=\"../data/Tweets.csv\")\n",
    "#tweet_data <- s3read_using(FUN = data.table::fread, object = \"s3://project1-lz/upload/Tweets.csv\")\n",
    "#tweet_data <- s3read_using(FUN = read.csv, object = \"s3://project1-lz/upload/Tweets.csv\")\n",
    "#tweet_data <- s3read_using(FUN = read.csv, bucket = \"project1-lz\", object = \"upload/Tweets.csv\")\n",
    "\n",
    "## Show tweet table\n",
    "#head(tweet_data, n = 100)"
   ]
  },
  {
   "cell_type": "code",
   "execution_count": null,
   "metadata": {},
   "outputs": [],
   "source": [
    "\n",
    "tweet_data %>% \n",
    "    group_by(airline,airline_sentiment) %>% \n",
    "    summarise(n()) %>%\n",
    "    as.data.frame()\n",
    "\n",
    "tweet_ratings <- tweet_data %>% \n",
    "    group_by(airline,airline_sentiment) \n"
   ]
  },
  {
   "cell_type": "code",
   "execution_count": null,
   "metadata": {},
   "outputs": [],
   "source": [
    "\n",
    "## Plot positive vs negative tweets by airline\n",
    "\n",
    "s <- ggplot(tweet_ratings, aes(airline, fill = airline_sentiment)) + geom_bar(position = \"fill\")\n",
    "\n",
    "cbPalette <- c(\"#ef8a62\", \"#f7f7f7\", \"#67a9cf\")\n",
    "s + scale_fill_manual(values=cbPalette)\n",
    "\n"
   ]
  },
  {
   "cell_type": "code",
   "execution_count": null,
   "metadata": {},
   "outputs": [],
   "source": [
    "## Plot number of tweets by location\n",
    "\n",
    "load(\"../dataviz/top_locations.rda\")\n",
    "\n",
    "as.data.frame(table(tweet_data['tweet_location'])) %>% \n",
    "  arrange(desc(Freq)) %>% \n",
    "  filter(Freq > 50) %>% \n",
    "  slice(2:100)\n",
    "\n",
    "leaflet(\n",
    "  top_locs_with_name %>% \n",
    "  slice(2:100) %>%\n",
    "  group_by(long = lon,lat) %>% \n",
    "  summarise(count = sum(n))\n",
    "  ) %>% \n",
    "  addTiles() %>% \n",
    "  addCircleMarkers(\n",
    "    radius = ~count/40,\n",
    "    stroke = FALSE, \n",
    "    fillOpacity = 0.5\n",
    "  )"
   ]
  },
  {
   "cell_type": "code",
   "execution_count": null,
   "metadata": {},
   "outputs": [],
   "source": [
    "## Tokenize the words into a corpus\n",
    "data(stop_words)\n",
    "\n",
    "airlines = tibble(text = c(\"united\",\"usairways\",\"americanair\",\"southwestair\",\"jetblue\",\"virginamerica\"))\n",
    "\n",
    "text_df <- tibble(line = 1:length(as.character(tweet_data$text)), text = as.character(tweet_data$text))\n",
    "\n",
    "text_df <- text_df %>%  \n",
    "  mutate(text = str_replace_all(text, \"https://t.co/[A-Za-z\\\\d]+|http://[A-Za-z\\\\d]+|&amp;|&lt;|&gt;|RT|https\", \"\")) %>%\n",
    "  unnest_tokens(word, text) #, token = \"regex\", pattern = reg_words)\n",
    "\n",
    "text_df <- text_df %>% anti_join(stop_words)\n",
    "text_df <- text_df %>% anti_join(airlines,by = c(\"word\" = \"text\"))"
   ]
  },
  {
   "cell_type": "code",
   "execution_count": null,
   "metadata": {},
   "outputs": [],
   "source": [
    "## Plot word count frequency\n",
    "\n",
    "text_df %>%\n",
    "  count(word, sort = TRUE) %>%\n",
    "  as.data.frame()\n",
    "\n",
    "text_df %>%\n",
    "  filter(word != \"flight\") %>%\n",
    "  count(word, sort = TRUE) %>%\n",
    "  filter(n > 400) %>%\n",
    "  mutate(word = reorder(word, n)) %>%\n",
    "  ggplot(aes(word, n)) +\n",
    "  geom_col() +\n",
    "  xlab(NULL) +\n",
    "  coord_flip()"
   ]
  },
  {
   "cell_type": "code",
   "execution_count": null,
   "metadata": {},
   "outputs": [],
   "source": [
    "## Plot word cloud\n",
    "\n",
    "text_df %>% \n",
    "  filter(word != \"flight\") %>%\n",
    "  count(word) %>%\n",
    "  with(wordcloud(word, n, scale=c(4,0.5),max.words = 50))"
   ]
  },
  {
   "cell_type": "code",
   "execution_count": null,
   "metadata": {},
   "outputs": [],
   "source": [
    "#library(nbconvertR)\n",
    "#library(xelatex)"
   ]
  },
  {
   "cell_type": "code",
   "execution_count": null,
   "metadata": {},
   "outputs": [],
   "source": [
    "#nbconvert(\"./dataviz.ipynb\", \"pdf\")"
   ]
  },
  {
   "cell_type": "code",
   "execution_count": null,
   "metadata": {},
   "outputs": [],
   "source": []
  }
 ],
 "metadata": {
  "kernelspec": {
   "display_name": "R",
   "language": "R",
   "name": "ir"
  },
  "language_info": {
   "codemirror_mode": "r",
   "file_extension": ".r",
   "mimetype": "text/x-r-source",
   "name": "R",
   "pygments_lexer": "r",
   "version": "3.6.3"
  }
 },
 "nbformat": 4,
 "nbformat_minor": 4
}
