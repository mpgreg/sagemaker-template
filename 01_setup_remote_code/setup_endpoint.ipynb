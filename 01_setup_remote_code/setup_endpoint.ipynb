{
 "cells": [
  {
   "cell_type": "code",
   "execution_count": null,
   "metadata": {},
   "outputs": [],
   "source": [
    "import boto3\n",
    "from sagemaker import get_execution_role\n",
    "import time\n",
    "\n",
    "role = get_execution_role()\n",
    "\n",
    "project_name = 'project1'\n",
    "\n",
    "endpoint_name = project_name+'_python_REPL_'+time.strftime(\"%Y%m%d-%H%M%S\")\n",
    "private_key_file=\"./\"+endpoint_name+\"_private.key\"\n",
    "public_key_file=\"./\"+endpoint_name+\"_public.key\"\n"
   ]
  },
  {
   "cell_type": "code",
   "execution_count": null,
   "metadata": {},
   "outputs": [],
   "source": [
    "#create ssh key\n",
    "from cryptography.hazmat.primitives import serialization as crypto_serialization\n",
    "from cryptography.hazmat.primitives.asymmetric import rsa\n",
    "from cryptography.hazmat.backends import default_backend as crypto_default_backend\n",
    "from os import chmod\n",
    "\n",
    "key = rsa.generate_private_key(\n",
    "    backend=crypto_default_backend(),\n",
    "    public_exponent=65537,\n",
    "    key_size=2048\n",
    ")\n",
    "\n",
    "private_key = key.private_bytes(\n",
    "    crypto_serialization.Encoding.PEM,\n",
    "    crypto_serialization.PrivateFormat.PKCS8,\n",
    "    crypto_serialization.NoEncryption())\n",
    "\n",
    "public_key = key.public_key().public_bytes(\n",
    "    crypto_serialization.Encoding.OpenSSH,\n",
    "    crypto_serialization.PublicFormat.OpenSSH\n",
    ")\n",
    "\n",
    "#save files for ssh tunnel setup\n",
    "with open(private_key_file, 'wb') as f:\n",
    "    chmod(private_key_file, 0o600)\n",
    "    f.write(private_key)\n",
    "    f.close\n",
    "\n",
    "with open(public_key_file, 'wb') as f:\n",
    "    f.write(public_key)\n",
    "    f.close      "
   ]
  },
  {
   "cell_type": "code",
   "execution_count": null,
   "metadata": {},
   "outputs": [],
   "source": [
    "#create lib zip\n",
    "\n",
    "\n"
   ]
  },
  {
   "cell_type": "code",
   "execution_count": null,
   "metadata": {},
   "outputs": [],
   "source": [
    "public_key_string=public_key.decode()+\" junk@junk.com\"\n",
    "\n",
    "gl_client = boto3.client('glue')\n",
    "response = gl_client.create_dev_endpoint(\n",
    "    EndpointName=endpoint_name,\n",
    "    RoleArn=role,\n",
    "    #SecurityGroupIds=[\n",
    "    #    '',\n",
    "    #],\n",
    "    #SubnetId='',\n",
    "    PublicKey=public_key_string,\n",
    "    NumberOfNodes=2,\n",
    "    #WorkerType='Standard',\n",
    "    GlueVersion='1.0',   #GV 1.0 for python 3.6, GV2.0 for python 3.7\n",
    "    #NumberOfWorkers=1,\n",
    "    #ExtraPythonLibsS3Path='string',\n",
    "    #ExtraJarsS3Path='string',\n",
    "    #SecurityConfiguration='string',\n",
    "    #Tags={\n",
    "    #    'string': 'string'\n",
    "    #},\n",
    "    Arguments={\n",
    "        'GLUE_PYTHON_VERSION' : '3'\n",
    "    }\n",
    ")\n",
    "\n",
    "gl_client.get_dev_endpoint(EndpointName=response['EndpointName'])['DevEndpoint']"
   ]
  },
  {
   "cell_type": "code",
   "execution_count": null,
   "metadata": {},
   "outputs": [],
   "source": [
    "import time\n",
    "\n",
    "# Wait until change set status is CREATE_COMPLETE\n",
    "while True:\n",
    "    endpoint_status = gl_client.get_dev_endpoint(EndpointName=response['EndpointName'])['DevEndpoint']['Status']\n",
    "    print(str(endpoint_status))\n",
    "    if endpoint_status == 'READY':\n",
    "        break\n",
    "    time.sleep(10)"
   ]
  },
  {
   "cell_type": "code",
   "execution_count": null,
   "metadata": {},
   "outputs": [],
   "source": [
    "endpoint_ipaddress = gl_client.get_dev_endpoint(EndpointName=response['EndpointName'])['DevEndpoint']['PublicAddress']\n",
    "\n",
    "print(\"Python3 Endpoint: \\n\"\n",
    "\"ssh -i \" + private_key_file + \" glue@\" + endpoint_ipaddress + \" -t python3\"+\"\\n\")\n",
    "\n",
    "print(\"SSH Tunnel Endpoint: \\n\"\n",
    "\"ssh -i \" + private_key_file + \" -vnNT -L :9007:169.254.76.1:9007 glue@\" + endpoint_ipaddress + \"\\n\")\n",
    "\n",
    "print(\"PySpark Endpoint: \\n\"\n",
    "\"ssh -i \" + private_key_file + \" glue@\" + endpoint_ipaddress + \" -t gluepyspark\"+\"\\n\")\n",
    "\n",
    "print(\"Scala Endpoint: \\n\"\n",
    "\"ssh -i \" + private_key_file + \" glue@\" + endpoint_ipaddress + \" -t glue-spark-shell\")\n"
   ]
  },
  {
   "cell_type": "code",
   "execution_count": null,
   "metadata": {},
   "outputs": [],
   "source": [
    "#####NOTE: Don't forget to delete the endpoint when no longer in-use.#####\n",
    "import os\n",
    "#gl_client.delete_dev_endpoint(EndpointName=response['EndpointName'])\n",
    "\n",
    "\n",
    "#if os.path.exists(public_key_file):\n",
    "#    os.remove(public_key_file)\n",
    "\n",
    "#if os.path.exists(private_key_file):\n",
    "#    os.remove(private_key_file)"
   ]
  }
 ],
 "metadata": {
  "kernelspec": {
   "display_name": "conda_python3",
   "language": "python",
   "name": "conda_python3"
  },
  "language_info": {
   "codemirror_mode": {
    "name": "ipython",
    "version": 3
   },
   "file_extension": ".py",
   "mimetype": "text/x-python",
   "name": "python",
   "nbconvert_exporter": "python",
   "pygments_lexer": "ipython3",
   "version": "3.6.10"
  }
 },
 "nbformat": 4,
 "nbformat_minor": 4
}
