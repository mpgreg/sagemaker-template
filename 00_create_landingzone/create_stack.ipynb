{
 "cells": [
  {
   "cell_type": "code",
   "execution_count": 36,
   "metadata": {},
   "outputs": [],
   "source": [
    "import boto3\n",
    "\n",
    "template_file=\"./cloudfront-authorization-at-edge-template.yaml\"\n",
    "stackname=\"s3landingzone\"\n",
    "\n",
    "cf = boto3.client('cloudformation', region_name='us-east-1')"
   ]
  },
  {
   "cell_type": "code",
   "execution_count": 37,
   "metadata": {},
   "outputs": [],
   "source": [
    "with open(template_file) as template_fileobj:\n",
    "        template_data = template_fileobj.read()\n",
    "        cf.validate_template(TemplateBody=template_data)\n"
   ]
  },
  {
   "cell_type": "code",
   "execution_count": null,
   "metadata": {},
   "outputs": [],
   "source": []
  },
  {
   "cell_type": "code",
   "execution_count": 38,
   "metadata": {},
   "outputs": [],
   "source": [
    "# Helper function to retrieve change set status\n",
    "def changeSetStatus(change_set_name, client):\n",
    "    response = client.describe_change_set(\n",
    "      ChangeSetName=change_set_name,\n",
    "    )\n",
    "    return response['Status']\n"
   ]
  },
  {
   "cell_type": "code",
   "execution_count": null,
   "metadata": {},
   "outputs": [],
   "source": [
    "# Create change set\n",
    "cs_response = cf.create_change_set(\n",
    "    StackName=stackname,\n",
    "    TemplateBody=template_data,\n",
    "    ChangeSetType=\"CREATE\",\n",
    "    ChangeSetName=stackname + \"-cs\",\n",
    "    Capabilities=['CAPABILITY_IAM']\n",
    ")"
   ]
  },
  {
   "cell_type": "code",
   "execution_count": 55,
   "metadata": {},
   "outputs": [
    {
     "data": {
      "text/plain": [
       "'arn:aws:cloudformation:us-east-1:000378343852:changeSet/s3landingzone-cs/90faffc2-beb9-4a07-b050-a30643e307cd'"
      ]
     },
     "execution_count": 55,
     "metadata": {},
     "output_type": "execute_result"
    }
   ],
   "source": [
    "#Remove print statements, here for illustration\n",
    "cs_response['Id']"
   ]
  },
  {
   "cell_type": "code",
   "execution_count": 56,
   "metadata": {},
   "outputs": [
    {
     "name": "stdout",
     "output_type": "stream",
     "text": [
      "CREATE_COMPLETE\n"
     ]
    }
   ],
   "source": [
    "import time\n",
    "\n",
    "change_set_name = cs_response['Id']\n",
    "# Wait until change set status is CREATE_COMPLETE\n",
    "while True:\n",
    "  response = changeSetStatus(change_set_name, cf)\n",
    "  print(str(response))\n",
    "  time.sleep(10)\n",
    "  if response == 'CREATE_COMPLETE':\n",
    "      break\n",
    "\n",
    "# Execute change set\n",
    "ex_response = cf.execute_change_set(\n",
    "  ChangeSetName=change_set_name\n",
    ")\n"
   ]
  },
  {
   "cell_type": "code",
   "execution_count": null,
   "metadata": {},
   "outputs": [],
   "source": []
  }
 ],
 "metadata": {
  "kernelspec": {
   "display_name": "conda_python3",
   "language": "python",
   "name": "conda_python3"
  },
  "language_info": {
   "codemirror_mode": {
    "name": "ipython",
    "version": 3
   },
   "file_extension": ".py",
   "mimetype": "text/x-python",
   "name": "python",
   "nbconvert_exporter": "python",
   "pygments_lexer": "ipython3",
   "version": "3.6.10"
  }
 },
 "nbformat": 4,
 "nbformat_minor": 4
}
